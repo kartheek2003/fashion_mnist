{
 "cells": [
  {
   "cell_type": "markdown",
   "id": "cf9228a6-05c4-4f80-9232-e879866436dd",
   "metadata": {},
   "source": [
    "# load data"
   ]
  },
  {
   "cell_type": "code",
   "execution_count": 1,
   "id": "ff928ca1-8368-46a0-a7db-1a256e02bdeb",
   "metadata": {},
   "outputs": [],
   "source": [
    "import tensorflow as tf\n",
    "from tensorflow.keras.datasets import fashion_mnist"
   ]
  },
  {
   "cell_type": "code",
   "execution_count": 30,
   "id": "982e1cce-bb32-470d-b450-dcbf4ddd3491",
   "metadata": {},
   "outputs": [],
   "source": [
    "import numpy as np"
   ]
  },
  {
   "cell_type": "code",
   "execution_count": 3,
   "id": "83d4c996-f592-4c16-94ec-2e09c1477779",
   "metadata": {},
   "outputs": [
    {
     "name": "stdout",
     "output_type": "stream",
     "text": [
      "Downloading data from https://storage.googleapis.com/tensorflow/tf-keras-datasets/train-labels-idx1-ubyte.gz\n",
      "\u001b[1m29515/29515\u001b[0m \u001b[32m━━━━━━━━━━━━━━━━━━━━\u001b[0m\u001b[37m\u001b[0m \u001b[1m0s\u001b[0m 2us/step\n",
      "Downloading data from https://storage.googleapis.com/tensorflow/tf-keras-datasets/train-images-idx3-ubyte.gz\n",
      "\u001b[1m26421880/26421880\u001b[0m \u001b[32m━━━━━━━━━━━━━━━━━━━━\u001b[0m\u001b[37m\u001b[0m \u001b[1m13s\u001b[0m 0us/step\n",
      "Downloading data from https://storage.googleapis.com/tensorflow/tf-keras-datasets/t10k-labels-idx1-ubyte.gz\n",
      "\u001b[1m5148/5148\u001b[0m \u001b[32m━━━━━━━━━━━━━━━━━━━━\u001b[0m\u001b[37m\u001b[0m \u001b[1m0s\u001b[0m 0us/step\n",
      "Downloading data from https://storage.googleapis.com/tensorflow/tf-keras-datasets/t10k-images-idx3-ubyte.gz\n",
      "\u001b[1m4422102/4422102\u001b[0m \u001b[32m━━━━━━━━━━━━━━━━━━━━\u001b[0m\u001b[37m\u001b[0m \u001b[1m2s\u001b[0m 0us/step\n"
     ]
    },
    {
     "data": {
      "text/plain": [
       "((array([[[0, 0, 0, ..., 0, 0, 0],\n",
       "          [0, 0, 0, ..., 0, 0, 0],\n",
       "          [0, 0, 0, ..., 0, 0, 0],\n",
       "          ...,\n",
       "          [0, 0, 0, ..., 0, 0, 0],\n",
       "          [0, 0, 0, ..., 0, 0, 0],\n",
       "          [0, 0, 0, ..., 0, 0, 0]],\n",
       "  \n",
       "         [[0, 0, 0, ..., 0, 0, 0],\n",
       "          [0, 0, 0, ..., 0, 0, 0],\n",
       "          [0, 0, 0, ..., 0, 0, 0],\n",
       "          ...,\n",
       "          [0, 0, 0, ..., 0, 0, 0],\n",
       "          [0, 0, 0, ..., 0, 0, 0],\n",
       "          [0, 0, 0, ..., 0, 0, 0]],\n",
       "  \n",
       "         [[0, 0, 0, ..., 0, 0, 0],\n",
       "          [0, 0, 0, ..., 0, 0, 0],\n",
       "          [0, 0, 0, ..., 0, 0, 0],\n",
       "          ...,\n",
       "          [0, 0, 0, ..., 0, 0, 0],\n",
       "          [0, 0, 0, ..., 0, 0, 0],\n",
       "          [0, 0, 0, ..., 0, 0, 0]],\n",
       "  \n",
       "         ...,\n",
       "  \n",
       "         [[0, 0, 0, ..., 0, 0, 0],\n",
       "          [0, 0, 0, ..., 0, 0, 0],\n",
       "          [0, 0, 0, ..., 0, 0, 0],\n",
       "          ...,\n",
       "          [0, 0, 0, ..., 0, 0, 0],\n",
       "          [0, 0, 0, ..., 0, 0, 0],\n",
       "          [0, 0, 0, ..., 0, 0, 0]],\n",
       "  \n",
       "         [[0, 0, 0, ..., 0, 0, 0],\n",
       "          [0, 0, 0, ..., 0, 0, 0],\n",
       "          [0, 0, 0, ..., 0, 0, 0],\n",
       "          ...,\n",
       "          [0, 0, 0, ..., 0, 0, 0],\n",
       "          [0, 0, 0, ..., 0, 0, 0],\n",
       "          [0, 0, 0, ..., 0, 0, 0]],\n",
       "  \n",
       "         [[0, 0, 0, ..., 0, 0, 0],\n",
       "          [0, 0, 0, ..., 0, 0, 0],\n",
       "          [0, 0, 0, ..., 0, 0, 0],\n",
       "          ...,\n",
       "          [0, 0, 0, ..., 0, 0, 0],\n",
       "          [0, 0, 0, ..., 0, 0, 0],\n",
       "          [0, 0, 0, ..., 0, 0, 0]]], dtype=uint8),\n",
       "  array([9, 0, 0, ..., 3, 0, 5], dtype=uint8)),\n",
       " (array([[[0, 0, 0, ..., 0, 0, 0],\n",
       "          [0, 0, 0, ..., 0, 0, 0],\n",
       "          [0, 0, 0, ..., 0, 0, 0],\n",
       "          ...,\n",
       "          [0, 0, 0, ..., 0, 0, 0],\n",
       "          [0, 0, 0, ..., 0, 0, 0],\n",
       "          [0, 0, 0, ..., 0, 0, 0]],\n",
       "  \n",
       "         [[0, 0, 0, ..., 0, 0, 0],\n",
       "          [0, 0, 0, ..., 0, 0, 0],\n",
       "          [0, 0, 0, ..., 0, 0, 0],\n",
       "          ...,\n",
       "          [0, 0, 0, ..., 0, 0, 0],\n",
       "          [0, 0, 0, ..., 0, 0, 0],\n",
       "          [0, 0, 0, ..., 0, 0, 0]],\n",
       "  \n",
       "         [[0, 0, 0, ..., 0, 0, 0],\n",
       "          [0, 0, 0, ..., 0, 0, 0],\n",
       "          [0, 0, 0, ..., 0, 0, 0],\n",
       "          ...,\n",
       "          [0, 0, 0, ..., 0, 0, 0],\n",
       "          [0, 0, 0, ..., 0, 0, 0],\n",
       "          [0, 0, 0, ..., 0, 0, 0]],\n",
       "  \n",
       "         ...,\n",
       "  \n",
       "         [[0, 0, 0, ..., 0, 0, 0],\n",
       "          [0, 0, 0, ..., 0, 0, 0],\n",
       "          [0, 0, 0, ..., 0, 0, 0],\n",
       "          ...,\n",
       "          [0, 0, 0, ..., 0, 0, 0],\n",
       "          [0, 0, 0, ..., 0, 0, 0],\n",
       "          [0, 0, 0, ..., 0, 0, 0]],\n",
       "  \n",
       "         [[0, 0, 0, ..., 0, 0, 0],\n",
       "          [0, 0, 0, ..., 0, 0, 0],\n",
       "          [0, 0, 0, ..., 0, 0, 0],\n",
       "          ...,\n",
       "          [0, 0, 0, ..., 0, 0, 0],\n",
       "          [0, 0, 0, ..., 0, 0, 0],\n",
       "          [0, 0, 0, ..., 0, 0, 0]],\n",
       "  \n",
       "         [[0, 0, 0, ..., 0, 0, 0],\n",
       "          [0, 0, 0, ..., 0, 0, 0],\n",
       "          [0, 0, 0, ..., 0, 0, 0],\n",
       "          ...,\n",
       "          [0, 0, 0, ..., 0, 0, 0],\n",
       "          [0, 0, 0, ..., 0, 0, 0],\n",
       "          [0, 0, 0, ..., 0, 0, 0]]], dtype=uint8),\n",
       "  array([9, 2, 1, ..., 8, 1, 5], dtype=uint8)))"
      ]
     },
     "execution_count": 3,
     "metadata": {},
     "output_type": "execute_result"
    }
   ],
   "source": [
    "fashion_mnist.load_data()"
   ]
  },
  {
   "cell_type": "code",
   "execution_count": 4,
   "id": "af48611b-580e-4765-a6ba-1c51b1f240e7",
   "metadata": {},
   "outputs": [],
   "source": [
    "(x_train,y_train),(x_test,y_test) = fashion_mnist.load_data()"
   ]
  },
  {
   "cell_type": "code",
   "execution_count": 6,
   "id": "d82009a6-fef6-4e39-b131-d9040db3b500",
   "metadata": {},
   "outputs": [
    {
     "data": {
      "text/plain": [
       "(60000, 28, 28)"
      ]
     },
     "execution_count": 6,
     "metadata": {},
     "output_type": "execute_result"
    }
   ],
   "source": [
    "x_train.shape"
   ]
  },
  {
   "cell_type": "code",
   "execution_count": 25,
   "id": "472337c4-d481-47e6-8bc2-cfd65cd58e56",
   "metadata": {},
   "outputs": [],
   "source": [
    "import matplotlib.pyplot as plt"
   ]
  },
  {
   "cell_type": "code",
   "execution_count": 26,
   "id": "0b032aef-423f-4075-9951-113da082d0f7",
   "metadata": {},
   "outputs": [
    {
     "data": {
      "text/plain": [
       "<matplotlib.image.AxesImage at 0x1e53e39fcd0>"
      ]
     },
     "execution_count": 26,
     "metadata": {},
     "output_type": "execute_result"
    },
    {
     "data": {
      "image/png": "[encoded data removed]",
      "text/plain": [
       "<Figure size 640x480 with 1 Axes>"
      ]
     },
     "metadata": {},
     "output_type": "display_data"
    }
   ],
   "source": [
    "plt.imshow(x_train[0])"
   ]
  },
  {
   "cell_type": "code",
   "execution_count": 28,
   "id": "968ed0a0-56d8-48ba-ab67-a9f3c7480d92",
   "metadata": {},
   "outputs": [
    {
     "data": {
      "image/png": "[encoded data removed]",
      "text/plain": [
       "<Figure size 640x480 with 1 Axes>"
      ]
     },
     "metadata": {},
     "output_type": "display_data"
    },
    {
     "data": {
      "image/png": "[encoded data removed]",
      "text/plain": [
       "<Figure size 640x480 with 1 Axes>"
      ]
     },
     "metadata": {},
     "output_type": "display_data"
    },
    {
     "data": {
      "image/png": "[encoded data removed]",
      "text/plain": [
       "<Figure size 640x480 with 1 Axes>"
      ]
     },
     "metadata": {},
     "output_type": "display_data"
    },
    {
     "data": {
      "image/png": "[encoded data removed]",
      "text/plain": [
       "<Figure size 640x480 with 1 Axes>"
      ]
     },
     "metadata": {},
     "output_type": "display_data"
    },
    {
     "data": {
      "image/png": "[encoded data removed]",
      "text/plain": [
       "<Figure size 640x480 with 1 Axes>"
      ]
     },
     "metadata": {},
     "output_type": "display_data"
    }
   ],
   "source": [
    "for i in range(5):\n",
    "    plt.imshow(x_train[i])\n",
    "    plt.title(y_train[i])\n",
    "    plt.axis('off')\n",
    "    plt.show()"
   ]
  },
  {
   "cell_type": "code",
   "execution_count": 29,
   "id": "a6d333e1-4d6d-4675-89a1-13e9afbf0169",
   "metadata": {},
   "outputs": [],
   "source": [
    "x_train  = np.stack([x_train]*3,axis=-1)\n",
    "x_test = np.stack([x_test]*3,axis=-1)\n",
    "x_train = tf.image.resize(x_train,(32,32))\n",
    "x_test = tf.image.resize(x_test,(32,32))\n",
    "\n",
    "\n"
   ]
  },
  {
   "cell_type": "markdown",
   "id": "a22477cf-6b13-4677-8034-ea1a9a238bb2",
   "metadata": {},
   "source": [
    "This block of code performs two main tasks: **channel expansion** and **resizing the images.**\n",
    "\n",
    "### 1. **Channel Expansion (Converting Grayscale to RGB)**\n",
    "\n",
    "```python\n",
    "x_train = np.stack([x_train]*3, axis=-1)  # Add channels\n",
    "x_test = np.stack([x_test]*3, axis=-1)\n",
    "```\n",
    "\n",
    "- **Why:** Pretrained models like MobileNetV2 are designed for RGB images, which have 3 color channels. However, Fashion MNIST images are grayscale with only 1 channel. To make the dataset compatible, we duplicate the grayscale channel into three identical channels, effectively creating an \"RGB\" image.\n",
    "- **How:** \n",
    "  - `np.stack([x_train]*3, axis=-1)` takes the single grayscale channel and stacks it three times along the new channel axis (`axis=-1` adds the last dimension, representing color channels).\n",
    "\n",
    "After this step:\n",
    "- Original shape: `(60000, 28, 28)` (grayscale images)\n",
    "- New shape: `(60000, 28, 28, 3)` (RGB-like images)\n",
    "\n",
    "---\n",
    "\n",
    "### 2. **Resizing the Images**\n",
    "\n",
    "```python\n",
    "x_train = tf.image.resize(x_train, (32, 32))\n",
    "x_test = tf.image.resize(x_test, (32, 32))\n",
    "```\n",
    "\n",
    "- **Why:** Most pretrained models, including MobileNetV2, expect a specific input size. MobileNetV2, for example, expects images of at least 32x32 resolution. Fashion MNIST images are smaller at 28x28 pixels, so we resize them to meet the model's input requirements.\n",
    "- **How:** \n",
    "  - `tf.image.resize` resizes the image array to the specified dimensions `(32, 32)`. TensorFlow handles this efficiently by interpolating pixel values.\n",
    "\n",
    "After this step:\n",
    "- Input shape becomes `(60000, 32, 32, 3)`, compatible with the pretrained model.\n",
    "\n",
    "---\n",
    "\n",
    "### Combined Effect\n",
    "This preprocessing ensures:\n",
    "1. The grayscale images are converted to a 3-channel RGB format.\n",
    "2. The image size matches the requirements of the pretrained model.\n",
    "\n"
   ]
  },
  {
   "cell_type": "code",
   "execution_count": 31,
   "id": "4f10b3a1-bbd6-4a7e-8367-94539d9f0812",
   "metadata": {},
   "outputs": [],
   "source": [
    "x_train = x_train/255\n",
    "x_test = x_test/255"
   ]
  },
  {
   "cell_type": "code",
   "execution_count": 35,
   "id": "8c49d55a-6091-430c-91b3-d3c2d95fa3aa",
   "metadata": {},
   "outputs": [
    {
     "data": {
      "text/plain": [
       "TensorShape([60000, 32, 32, 3])"
      ]
     },
     "execution_count": 35,
     "metadata": {},
     "output_type": "execute_result"
    }
   ],
   "source": [
    "x_train.shape"
   ]
  },
  {
   "cell_type": "code",
   "execution_count": 42,
   "id": "0a21c15a-a0d9-4e12-a113-d72beaf376b6",
   "metadata": {},
   "outputs": [
    {
     "data": {
      "text/plain": [
       "<tf.Tensor: shape=(32, 32, 3), dtype=float32, numpy=\n",
       "array([[[0., 0., 0.],\n",
       "        [0., 0., 0.],\n",
       "        [0., 0., 0.],\n",
       "        ...,\n",
       "        [0., 0., 0.],\n",
       "        [0., 0., 0.],\n",
       "        [0., 0., 0.]],\n",
       "\n",
       "       [[0., 0., 0.],\n",
       "        [0., 0., 0.],\n",
       "        [0., 0., 0.],\n",
       "        ...,\n",
       "        [0., 0., 0.],\n",
       "        [0., 0., 0.],\n",
       "        [0., 0., 0.]],\n",
       "\n",
       "       [[0., 0., 0.],\n",
       "        [0., 0., 0.],\n",
       "        [0., 0., 0.],\n",
       "        ...,\n",
       "        [0., 0., 0.],\n",
       "        [0., 0., 0.],\n",
       "        [0., 0., 0.]],\n",
       "\n",
       "       ...,\n",
       "\n",
       "       [[0., 0., 0.],\n",
       "        [0., 0., 0.],\n",
       "        [0., 0., 0.],\n",
       "        ...,\n",
       "        [0., 0., 0.],\n",
       "        [0., 0., 0.],\n",
       "        [0., 0., 0.]],\n",
       "\n",
       "       [[0., 0., 0.],\n",
       "        [0., 0., 0.],\n",
       "        [0., 0., 0.],\n",
       "        ...,\n",
       "        [0., 0., 0.],\n",
       "        [0., 0., 0.],\n",
       "        [0., 0., 0.]],\n",
       "\n",
       "       [[0., 0., 0.],\n",
       "        [0., 0., 0.],\n",
       "        [0., 0., 0.],\n",
       "        ...,\n",
       "        [0., 0., 0.],\n",
       "        [0., 0., 0.],\n",
       "        [0., 0., 0.]]], dtype=float32)>"
      ]
     },
     "execution_count": 42,
     "metadata": {},
     "output_type": "execute_result"
    }
   ],
   "source": [
    "x_train[0]"
   ]
  },
  {
   "cell_type": "markdown",
   "id": "e84fc49e-3815-48e1-a64d-ba908d49c956",
   "metadata": {},
   "source": [
    "## import mobilenetv2"
   ]
  },
  {
   "cell_type": "code",
   "execution_count": 33,
   "id": "d0b85058-0903-417a-9819-bd1b35a3abbd",
   "metadata": {},
   "outputs": [],
   "source": [
    "from tensorflow.keras.applications import MobileNetV2"
   ]
  },
  {
   "cell_type": "code",
   "execution_count": 34,
   "id": "02f27ff0-55e4-4caa-9da0-ce158070f7c0",
   "metadata": {},
   "outputs": [],
   "source": [
    "from tensorflow.keras.layers import Dense,Flatten,GlobalAveragePooling2D,Dropout"
   ]
  },
  {
   "cell_type": "code",
   "execution_count": 36,
   "id": "4ca9733d-dbe3-49dc-985f-2934f14421d3",
   "metadata": {},
   "outputs": [
    {
     "name": "stderr",
     "output_type": "stream",
     "text": [
      "C:\\Users\\kk687\\AppData\\Local\\Temp\\ipykernel_2288\\2127454019.py:1: UserWarning: `input_shape` is undefined or non-square, or `rows` is not in [96, 128, 160, 192, 224]. Weights for input shape (224, 224) will be loaded as the default.\n",
      "  base_model = MobileNetV2(input_shape=(32,32,3),include_top=False)\n"
     ]
    },
    {
     "name": "stdout",
     "output_type": "stream",
     "text": [
      "Downloading data from https://storage.googleapis.com/tensorflow/keras-applications/mobilenet_v2/mobilenet_v2_weights_tf_dim_ordering_tf_kernels_1.0_224_no_top.h5\n",
      "\u001b[1m9406464/9406464\u001b[0m \u001b[32m━━━━━━━━━━━━━━━━━━━━\u001b[0m\u001b[37m\u001b[0m \u001b[1m4s\u001b[0m 0us/step\n"
     ]
    }
   ],
   "source": [
    "base_model = MobileNetV2(input_shape=(32,32,3),include_top=False)"
   ]
  },
  {
   "cell_type": "code",
   "execution_count": 37,
   "id": "effbfc0c-ee85-4181-bc51-d7a7c11dff49",
   "metadata": {},
   "outputs": [],
   "source": [
    "#freeze the base model \n",
    "base_model.trainable = False"
   ]
  },
  {
   "cell_type": "code",
   "execution_count": 38,
   "id": "30277d13-b9c0-45ca-9a98-d03d15ca74b2",
   "metadata": {},
   "outputs": [],
   "source": [
    "from tensorflow.keras import Sequential"
   ]
  },
  {
   "cell_type": "code",
   "execution_count": 39,
   "id": "2c8a4857-bbc6-49e8-849f-542d8c046ff0",
   "metadata": {},
   "outputs": [],
   "source": [
    "model = Sequential([\n",
    "    base_model,\n",
    "    GlobalAveragePooling2D(),\n",
    "    Dropout(0.5),\n",
    "    Dense(200,activation='relu'),\n",
    "    Dropout(0.3),\n",
    "    Dense(10,activation='softmax')\n",
    "])\n",
    "\n",
    "\n",
    "model.compile(optimizer='adam',loss='sparse_categorical_crossentropy',metrics=['accuracy'])"
   ]
  },
  {
   "cell_type": "code",
   "execution_count": 41,
   "id": "89ab7d26-5612-4d5e-950f-eafb7be24fc1",
   "metadata": {},
   "outputs": [
    {
     "name": "stdout",
     "output_type": "stream",
     "text": [
      "Epoch 1/10\n",
      "\u001b[1m1688/1688\u001b[0m \u001b[32m━━━━━━━━━━━━━━━━━━━━\u001b[0m\u001b[37m\u001b[0m \u001b[1m53s\u001b[0m 27ms/step - accuracy: 0.4174 - loss: 1.6436 - val_accuracy: 0.6192 - val_loss: 1.1336\n",
      "Epoch 2/10\n",
      "\u001b[1m1688/1688\u001b[0m \u001b[32m━━━━━━━━━━━━━━━━━━━━\u001b[0m\u001b[37m\u001b[0m \u001b[1m45s\u001b[0m 27ms/step - accuracy: 0.5026 - loss: 1.3747 - val_accuracy: 0.6250 - val_loss: 1.0931\n",
      "Epoch 3/10\n",
      "\u001b[1m1688/1688\u001b[0m \u001b[32m━━━━━━━━━━━━━━━━━━━━\u001b[0m\u001b[37m\u001b[0m \u001b[1m45s\u001b[0m 27ms/step - accuracy: 0.5150 - loss: 1.3269 - val_accuracy: 0.6347 - val_loss: 1.0839\n",
      "Epoch 4/10\n",
      "\u001b[1m1688/1688\u001b[0m \u001b[32m━━━━━━━━━━━━━━━━━━━━\u001b[0m\u001b[37m\u001b[0m \u001b[1m48s\u001b[0m 28ms/step - accuracy: 0.5225 - loss: 1.3124 - val_accuracy: 0.6320 - val_loss: 1.0588\n",
      "Epoch 5/10\n",
      "\u001b[1m1688/1688\u001b[0m \u001b[32m━━━━━━━━━━━━━━━━━━━━\u001b[0m\u001b[37m\u001b[0m \u001b[1m63s\u001b[0m 37ms/step - accuracy: 0.5275 - loss: 1.2884 - val_accuracy: 0.6250 - val_loss: 1.0709\n",
      "Epoch 6/10\n",
      "\u001b[1m1688/1688\u001b[0m \u001b[32m━━━━━━━━━━━━━━━━━━━━\u001b[0m\u001b[37m\u001b[0m \u001b[1m84s\u001b[0m 39ms/step - accuracy: 0.5308 - loss: 1.2837 - val_accuracy: 0.6287 - val_loss: 1.0634\n",
      "Epoch 7/10\n",
      "\u001b[1m1688/1688\u001b[0m \u001b[32m━━━━━━━━━━━━━━━━━━━━\u001b[0m\u001b[37m\u001b[0m \u001b[1m60s\u001b[0m 35ms/step - accuracy: 0.5316 - loss: 1.2907 - val_accuracy: 0.6302 - val_loss: 1.0520\n",
      "Epoch 8/10\n",
      "\u001b[1m1688/1688\u001b[0m \u001b[32m━━━━━━━━━━━━━━━━━━━━\u001b[0m\u001b[37m\u001b[0m \u001b[1m57s\u001b[0m 34ms/step - accuracy: 0.5385 - loss: 1.2727 - val_accuracy: 0.6328 - val_loss: 1.0587\n",
      "Epoch 9/10\n",
      "\u001b[1m1688/1688\u001b[0m \u001b[32m━━━━━━━━━━━━━━━━━━━━\u001b[0m\u001b[37m\u001b[0m \u001b[1m52s\u001b[0m 31ms/step - accuracy: 0.5353 - loss: 1.2805 - val_accuracy: 0.6275 - val_loss: 1.0631\n",
      "Epoch 10/10\n",
      "\u001b[1m1688/1688\u001b[0m \u001b[32m━━━━━━━━━━━━━━━━━━━━\u001b[0m\u001b[37m\u001b[0m \u001b[1m51s\u001b[0m 30ms/step - accuracy: 0.5371 - loss: 1.2714 - val_accuracy: 0.6320 - val_loss: 1.0533\n"
     ]
    }
   ],
   "source": [
    "hist = model.fit(x_train,y_train,epochs=10,batch_size=32,validation_split=0.1)"
   ]
  },
  {
   "cell_type": "code",
   "execution_count": 43,
   "id": "eb7b89b9-a852-4e03-a466-f60723033ea1",
   "metadata": {},
   "outputs": [
    {
     "data": {
      "text/plain": [
       "{'accuracy': [0.46218517422676086,\n",
       "  0.5053703784942627,\n",
       "  0.5166110992431641,\n",
       "  0.522185206413269,\n",
       "  0.5285184979438782,\n",
       "  0.529962956905365,\n",
       "  0.5346481204032898,\n",
       "  0.5373703837394714,\n",
       "  0.537574052810669,\n",
       "  0.5363147854804993],\n",
       " 'loss': [1.5000871419906616,\n",
       "  1.3641510009765625,\n",
       "  1.328622817993164,\n",
       "  1.3107725381851196,\n",
       "  1.2951630353927612,\n",
       "  1.2867190837860107,\n",
       "  1.283064842224121,\n",
       "  1.2747057676315308,\n",
       "  1.273300290107727,\n",
       "  1.2758923768997192],\n",
       " 'val_accuracy': [0.6191666722297668,\n",
       "  0.625,\n",
       "  0.6346666812896729,\n",
       "  0.6320000290870667,\n",
       "  0.625,\n",
       "  0.6286666393280029,\n",
       "  0.6301666498184204,\n",
       "  0.6328333616256714,\n",
       "  0.6274999976158142,\n",
       "  0.6320000290870667],\n",
       " 'val_loss': [1.133629322052002,\n",
       "  1.093138575553894,\n",
       "  1.0838866233825684,\n",
       "  1.0587531328201294,\n",
       "  1.0708601474761963,\n",
       "  1.0634130239486694,\n",
       "  1.0519587993621826,\n",
       "  1.0587282180786133,\n",
       "  1.0631372928619385,\n",
       "  1.0533002614974976]}"
      ]
     },
     "execution_count": 43,
     "metadata": {},
     "output_type": "execute_result"
    }
   ],
   "source": [
    "hist.history"
   ]
  },
  {
   "cell_type": "code",
   "execution_count": 44,
   "id": "6c51a299-23c0-42a8-ad60-1d4e98314614",
   "metadata": {},
   "outputs": [],
   "source": [
    "accuracy = hist.history['accuracy']"
   ]
  },
  {
   "cell_type": "code",
   "execution_count": 45,
   "id": "9e6e925c-e41b-4af9-8ee8-4bee7eec6eb3",
   "metadata": {},
   "outputs": [],
   "source": [
    "loss = hist.history['loss']\n",
    "val_accuracy = hist.history['val_accuracy']\n",
    "val_loss = hist.history['val_loss']"
   ]
  },
  {
   "cell_type": "code",
   "execution_count": 47,
   "id": "4b4d5102-cb98-4f79-9f88-74b804e141dc",
   "metadata": {},
   "outputs": [
    {
     "data": {
      "text/plain": [
       "Text(0, 0.5, 'accuracy')"
      ]
     },
     "execution_count": 47,
     "metadata": {},
     "output_type": "execute_result"
    },
    {
     "data": {
      "image/png": "[encoded data removed]",
      "text/plain": [
       "<Figure size 640x480 with 1 Axes>"
      ]
     },
     "metadata": {},
     "output_type": "display_data"
    }
   ],
   "source": [
    "plt.plot(accuracy)\n",
    "plt.plot(val_accuracy)\n",
    "plt.xlabel('epochs')\n",
    "plt.ylabel('accuracy')"
   ]
  },
  {
   "cell_type": "code",
   "execution_count": 49,
   "id": "f4aa0585-561d-43cf-afaa-a29487e4ca53",
   "metadata": {},
   "outputs": [
    {
     "data": {
      "text/plain": [
       "Text(0, 0.5, 'loss')"
      ]
     },
     "execution_count": 49,
     "metadata": {},
     "output_type": "execute_result"
    },
    {
     "data": {
      "image/png": "[encoded data removed]",
      "text/plain": [
       "<Figure size 640x480 with 1 Axes>"
      ]
     },
     "metadata": {},
     "output_type": "display_data"
    }
   ],
   "source": [
    "plt.plot(loss)\n",
    "plt.plot(val_loss)\n",
    "plt.xlabel('epochs')\n",
    "plt.ylabel('loss')"
   ]
  },
  {
   "cell_type": "markdown",
   "id": "568471ee-cf1f-4132-ac1d-ce827c192de5",
   "metadata": {},
   "source": [
    "lets use image augmentation for better accuracy"
   ]
  },
  {
   "cell_type": "code",
   "execution_count": 50,
   "id": "12406cf4-64bd-4a07-abf0-5c3a70c72b9d",
   "metadata": {},
   "outputs": [],
   "source": [
    "from tensorflow.keras.preprocessing.image import ImageDataGenerator"
   ]
  },
  {
   "cell_type": "code",
   "execution_count": 51,
   "id": "a1677808-3b0e-48e3-98f6-01cd0a46aa69",
   "metadata": {},
   "outputs": [],
   "source": [
    "datagen = ImageDataGenerator(rotation_range=10,\n",
    "    width_shift_range=0.1,\n",
    "    height_shift_range=0.1,\n",
    "    shear_range=0.1,\n",
    "    zoom_range=0.1,\n",
    "    horizontal_flip=True)\n",
    "\n",
    "datagen.fit(x_train)"
   ]
  },
  {
   "cell_type": "code",
   "execution_count": 52,
   "id": "f4c84872-3b74-41f6-b179-35de6269f911",
   "metadata": {},
   "outputs": [],
   "source": [
    "model_1 = Sequential([\n",
    "    base_model,\n",
    "    GlobalAveragePooling2D(),\n",
    "    Dense(256, activation='relu'),\n",
    "    Dropout(0.5),\n",
    "    Dense(128, activation='relu'),\n",
    "    Dropout(0.3),\n",
    "    Dense(10, activation='softmax')\n",
    "])\n",
    "\n",
    "model_1.compile(optimizer=tf.keras.optimizers.Adam(learning_rate=1e-5),loss='sparse_categorical_crossentropy',metrics=['accuracy'])"
   ]
  },
  {
   "cell_type": "code",
   "execution_count": 54,
   "id": "930ba5ee-e8bc-4716-af52-c70b0cd67380",
   "metadata": {},
   "outputs": [],
   "source": [
    "from sklearn.model_selection import train_test_split"
   ]
  },
  {
   "cell_type": "code",
   "execution_count": 57,
   "id": "3492ef6d-2153-47eb-b2b5-9127f6f2c120",
   "metadata": {},
   "outputs": [],
   "source": [
    "x_train_np = np.array(x_train)\n",
    "y_train_np = np.array(y_train)"
   ]
  },
  {
   "cell_type": "code",
   "execution_count": 59,
   "id": "046d8575-2335-4c5f-928e-d2c7a3f760f4",
   "metadata": {},
   "outputs": [],
   "source": [
    "x_train_split,x_val_split,y_train_split,y_val_split = train_test_split(x_train_np,y_train_np,test_size=0.1,random_state=42)"
   ]
  },
  {
   "cell_type": "code",
   "execution_count": 60,
   "id": "1c571a10-1416-408d-90dc-c29174dc4698",
   "metadata": {},
   "outputs": [],
   "source": [
    "train_generator = datagen.flow(x_train_split,y_train_split)"
   ]
  },
  {
   "cell_type": "code",
   "execution_count": 68,
   "id": "6ad2077b-fa39-4cbe-933b-979eea77a6f6",
   "metadata": {},
   "outputs": [
    {
     "name": "stdout",
     "output_type": "stream",
     "text": [
      "Epoch 1/10\n",
      "\u001b[1m1688/1688\u001b[0m \u001b[32m━━━━━━━━━━━━━━━━━━━━\u001b[0m\u001b[37m\u001b[0m \u001b[1m355s\u001b[0m 206ms/step - accuracy: 0.4762 - loss: 1.4678\n",
      "Epoch 2/10\n",
      "\u001b[1m1688/1688\u001b[0m \u001b[32m━━━━━━━━━━━━━━━━━━━━\u001b[0m\u001b[37m\u001b[0m \u001b[1m169s\u001b[0m 100ms/step - accuracy: 0.4897 - loss: 1.4034\n",
      "Epoch 3/10\n",
      "\u001b[1m1688/1688\u001b[0m \u001b[32m━━━━━━━━━━━━━━━━━━━━\u001b[0m\u001b[37m\u001b[0m \u001b[1m177s\u001b[0m 105ms/step - accuracy: 0.4973 - loss: 1.3926\n",
      "Epoch 4/10\n",
      "\u001b[1m1688/1688\u001b[0m \u001b[32m━━━━━━━━━━━━━━━━━━━━\u001b[0m\u001b[37m\u001b[0m \u001b[1m183s\u001b[0m 108ms/step - accuracy: 0.5043 - loss: 1.3583\n",
      "Epoch 5/10\n",
      "\u001b[1m1688/1688\u001b[0m \u001b[32m━━━━━━━━━━━━━━━━━━━━\u001b[0m\u001b[37m\u001b[0m \u001b[1m176s\u001b[0m 104ms/step - accuracy: 0.5133 - loss: 1.3408\n",
      "Epoch 6/10\n",
      "\u001b[1m1688/1688\u001b[0m \u001b[32m━━━━━━━━━━━━━━━━━━━━\u001b[0m\u001b[37m\u001b[0m \u001b[1m177s\u001b[0m 105ms/step - accuracy: 0.5185 - loss: 1.3215\n",
      "Epoch 7/10\n",
      "\u001b[1m1688/1688\u001b[0m \u001b[32m━━━━━━━━━━━━━━━━━━━━\u001b[0m\u001b[37m\u001b[0m \u001b[1m165s\u001b[0m 96ms/step - accuracy: 0.5296 - loss: 1.2977\n",
      "Epoch 8/10\n",
      "\u001b[1m1688/1688\u001b[0m \u001b[32m━━━━━━━━━━━━━━━━━━━━\u001b[0m\u001b[37m\u001b[0m \u001b[1m182s\u001b[0m 107ms/step - accuracy: 0.5348 - loss: 1.2835\n",
      "Epoch 9/10\n",
      "\u001b[1m1688/1688\u001b[0m \u001b[32m━━━━━━━━━━━━━━━━━━━━\u001b[0m\u001b[37m\u001b[0m \u001b[1m178s\u001b[0m 105ms/step - accuracy: 0.5394 - loss: 1.2733\n",
      "Epoch 10/10\n",
      "\u001b[1m1688/1688\u001b[0m \u001b[32m━━━━━━━━━━━━━━━━━━━━\u001b[0m\u001b[37m\u001b[0m \u001b[1m169s\u001b[0m 100ms/step - accuracy: 0.5405 - loss: 1.2654\n"
     ]
    }
   ],
   "source": [
    "hist_1 = model_1.fit(train_generator,epochs=10,batch_size=32)"
   ]
  },
  {
   "cell_type": "markdown",
   "id": "de4df597-01a0-4f2f-9165-dee6de6b53ec",
   "metadata": {},
   "source": [
    "since the accuracy is much lower than the previous ..lets try some more tuning "
   ]
  },
  {
   "cell_type": "code",
   "execution_count": 62,
   "id": "ffdfbf51-614c-46aa-9310-c9fb4723feae",
   "metadata": {},
   "outputs": [
    {
     "data": {
      "text/plain": [
       "<Functional name=mobilenetv2_1.00_224, built=True>"
      ]
     },
     "execution_count": 62,
     "metadata": {},
     "output_type": "execute_result"
    }
   ],
   "source": [
    "base_model"
   ]
  },
  {
   "cell_type": "code",
   "execution_count": 63,
   "id": "400d4016-8ae5-4846-b7c5-1f452bc401c4",
   "metadata": {},
   "outputs": [
    {
     "data": {
      "text/plain": [
       "[<InputLayer name=input_layer, built=True>,\n",
       " <Conv2D name=Conv1, built=True>,\n",
       " <BatchNormalization name=bn_Conv1, built=True>,\n",
       " <ReLU name=Conv1_relu, built=True>,\n",
       " <DepthwiseConv2D name=expanded_conv_depthwise, built=True>,\n",
       " <BatchNormalization name=expanded_conv_depthwise_BN, built=True>,\n",
       " <ReLU name=expanded_conv_depthwise_relu, built=True>,\n",
       " <Conv2D name=expanded_conv_project, built=True>,\n",
       " <BatchNormalization name=expanded_conv_project_BN, built=True>,\n",
       " <Conv2D name=block_1_expand, built=True>,\n",
       " <BatchNormalization name=block_1_expand_BN, built=True>,\n",
       " <ReLU name=block_1_expand_relu, built=True>,\n",
       " <ZeroPadding2D name=block_1_pad, built=True>,\n",
       " <DepthwiseConv2D name=block_1_depthwise, built=True>,\n",
       " <BatchNormalization name=block_1_depthwise_BN, built=True>,\n",
       " <ReLU name=block_1_depthwise_relu, built=True>,\n",
       " <Conv2D name=block_1_project, built=True>,\n",
       " <BatchNormalization name=block_1_project_BN, built=True>,\n",
       " <Conv2D name=block_2_expand, built=True>,\n",
       " <BatchNormalization name=block_2_expand_BN, built=True>,\n",
       " <ReLU name=block_2_expand_relu, built=True>,\n",
       " <DepthwiseConv2D name=block_2_depthwise, built=True>,\n",
       " <BatchNormalization name=block_2_depthwise_BN, built=True>,\n",
       " <ReLU name=block_2_depthwise_relu, built=True>,\n",
       " <Conv2D name=block_2_project, built=True>,\n",
       " <BatchNormalization name=block_2_project_BN, built=True>,\n",
       " <Add name=block_2_add, built=True>,\n",
       " <Conv2D name=block_3_expand, built=True>,\n",
       " <BatchNormalization name=block_3_expand_BN, built=True>,\n",
       " <ReLU name=block_3_expand_relu, built=True>,\n",
       " <ZeroPadding2D name=block_3_pad, built=True>,\n",
       " <DepthwiseConv2D name=block_3_depthwise, built=True>,\n",
       " <BatchNormalization name=block_3_depthwise_BN, built=True>,\n",
       " <ReLU name=block_3_depthwise_relu, built=True>,\n",
       " <Conv2D name=block_3_project, built=True>,\n",
       " <BatchNormalization name=block_3_project_BN, built=True>,\n",
       " <Conv2D name=block_4_expand, built=True>,\n",
       " <BatchNormalization name=block_4_expand_BN, built=True>,\n",
       " <ReLU name=block_4_expand_relu, built=True>,\n",
       " <DepthwiseConv2D name=block_4_depthwise, built=True>,\n",
       " <BatchNormalization name=block_4_depthwise_BN, built=True>,\n",
       " <ReLU name=block_4_depthwise_relu, built=True>,\n",
       " <Conv2D name=block_4_project, built=True>,\n",
       " <BatchNormalization name=block_4_project_BN, built=True>,\n",
       " <Add name=block_4_add, built=True>,\n",
       " <Conv2D name=block_5_expand, built=True>,\n",
       " <BatchNormalization name=block_5_expand_BN, built=True>,\n",
       " <ReLU name=block_5_expand_relu, built=True>,\n",
       " <DepthwiseConv2D name=block_5_depthwise, built=True>,\n",
       " <BatchNormalization name=block_5_depthwise_BN, built=True>,\n",
       " <ReLU name=block_5_depthwise_relu, built=True>,\n",
       " <Conv2D name=block_5_project, built=True>,\n",
       " <BatchNormalization name=block_5_project_BN, built=True>,\n",
       " <Add name=block_5_add, built=True>,\n",
       " <Conv2D name=block_6_expand, built=True>,\n",
       " <BatchNormalization name=block_6_expand_BN, built=True>,\n",
       " <ReLU name=block_6_expand_relu, built=True>,\n",
       " <ZeroPadding2D name=block_6_pad, built=True>,\n",
       " <DepthwiseConv2D name=block_6_depthwise, built=True>,\n",
       " <BatchNormalization name=block_6_depthwise_BN, built=True>,\n",
       " <ReLU name=block_6_depthwise_relu, built=True>,\n",
       " <Conv2D name=block_6_project, built=True>,\n",
       " <BatchNormalization name=block_6_project_BN, built=True>,\n",
       " <Conv2D name=block_7_expand, built=True>,\n",
       " <BatchNormalization name=block_7_expand_BN, built=True>,\n",
       " <ReLU name=block_7_expand_relu, built=True>,\n",
       " <DepthwiseConv2D name=block_7_depthwise, built=True>,\n",
       " <BatchNormalization name=block_7_depthwise_BN, built=True>,\n",
       " <ReLU name=block_7_depthwise_relu, built=True>,\n",
       " <Conv2D name=block_7_project, built=True>,\n",
       " <BatchNormalization name=block_7_project_BN, built=True>,\n",
       " <Add name=block_7_add, built=True>,\n",
       " <Conv2D name=block_8_expand, built=True>,\n",
       " <BatchNormalization name=block_8_expand_BN, built=True>,\n",
       " <ReLU name=block_8_expand_relu, built=True>,\n",
       " <DepthwiseConv2D name=block_8_depthwise, built=True>,\n",
       " <BatchNormalization name=block_8_depthwise_BN, built=True>,\n",
       " <ReLU name=block_8_depthwise_relu, built=True>,\n",
       " <Conv2D name=block_8_project, built=True>,\n",
       " <BatchNormalization name=block_8_project_BN, built=True>,\n",
       " <Add name=block_8_add, built=True>,\n",
       " <Conv2D name=block_9_expand, built=True>,\n",
       " <BatchNormalization name=block_9_expand_BN, built=True>,\n",
       " <ReLU name=block_9_expand_relu, built=True>,\n",
       " <DepthwiseConv2D name=block_9_depthwise, built=True>,\n",
       " <BatchNormalization name=block_9_depthwise_BN, built=True>,\n",
       " <ReLU name=block_9_depthwise_relu, built=True>,\n",
       " <Conv2D name=block_9_project, built=True>,\n",
       " <BatchNormalization name=block_9_project_BN, built=True>,\n",
       " <Add name=block_9_add, built=True>,\n",
       " <Conv2D name=block_10_expand, built=True>,\n",
       " <BatchNormalization name=block_10_expand_BN, built=True>,\n",
       " <ReLU name=block_10_expand_relu, built=True>,\n",
       " <DepthwiseConv2D name=block_10_depthwise, built=True>,\n",
       " <BatchNormalization name=block_10_depthwise_BN, built=True>,\n",
       " <ReLU name=block_10_depthwise_relu, built=True>,\n",
       " <Conv2D name=block_10_project, built=True>,\n",
       " <BatchNormalization name=block_10_project_BN, built=True>,\n",
       " <Conv2D name=block_11_expand, built=True>,\n",
       " <BatchNormalization name=block_11_expand_BN, built=True>,\n",
       " <ReLU name=block_11_expand_relu, built=True>,\n",
       " <DepthwiseConv2D name=block_11_depthwise, built=True>,\n",
       " <BatchNormalization name=block_11_depthwise_BN, built=True>,\n",
       " <ReLU name=block_11_depthwise_relu, built=True>,\n",
       " <Conv2D name=block_11_project, built=True>,\n",
       " <BatchNormalization name=block_11_project_BN, built=True>,\n",
       " <Add name=block_11_add, built=True>,\n",
       " <Conv2D name=block_12_expand, built=True>,\n",
       " <BatchNormalization name=block_12_expand_BN, built=True>,\n",
       " <ReLU name=block_12_expand_relu, built=True>,\n",
       " <DepthwiseConv2D name=block_12_depthwise, built=True>,\n",
       " <BatchNormalization name=block_12_depthwise_BN, built=True>,\n",
       " <ReLU name=block_12_depthwise_relu, built=True>,\n",
       " <Conv2D name=block_12_project, built=True>,\n",
       " <BatchNormalization name=block_12_project_BN, built=True>,\n",
       " <Add name=block_12_add, built=True>,\n",
       " <Conv2D name=block_13_expand, built=True>,\n",
       " <BatchNormalization name=block_13_expand_BN, built=True>,\n",
       " <ReLU name=block_13_expand_relu, built=True>,\n",
       " <ZeroPadding2D name=block_13_pad, built=True>,\n",
       " <DepthwiseConv2D name=block_13_depthwise, built=True>,\n",
       " <BatchNormalization name=block_13_depthwise_BN, built=True>,\n",
       " <ReLU name=block_13_depthwise_relu, built=True>,\n",
       " <Conv2D name=block_13_project, built=True>,\n",
       " <BatchNormalization name=block_13_project_BN, built=True>,\n",
       " <Conv2D name=block_14_expand, built=True>,\n",
       " <BatchNormalization name=block_14_expand_BN, built=True>,\n",
       " <ReLU name=block_14_expand_relu, built=True>,\n",
       " <DepthwiseConv2D name=block_14_depthwise, built=True>,\n",
       " <BatchNormalization name=block_14_depthwise_BN, built=True>,\n",
       " <ReLU name=block_14_depthwise_relu, built=True>,\n",
       " <Conv2D name=block_14_project, built=True>,\n",
       " <BatchNormalization name=block_14_project_BN, built=True>,\n",
       " <Add name=block_14_add, built=True>,\n",
       " <Conv2D name=block_15_expand, built=True>,\n",
       " <BatchNormalization name=block_15_expand_BN, built=True>,\n",
       " <ReLU name=block_15_expand_relu, built=True>,\n",
       " <DepthwiseConv2D name=block_15_depthwise, built=True>,\n",
       " <BatchNormalization name=block_15_depthwise_BN, built=True>,\n",
       " <ReLU name=block_15_depthwise_relu, built=True>,\n",
       " <Conv2D name=block_15_project, built=True>,\n",
       " <BatchNormalization name=block_15_project_BN, built=True>,\n",
       " <Add name=block_15_add, built=True>,\n",
       " <Conv2D name=block_16_expand, built=True>,\n",
       " <BatchNormalization name=block_16_expand_BN, built=True>,\n",
       " <ReLU name=block_16_expand_relu, built=True>,\n",
       " <DepthwiseConv2D name=block_16_depthwise, built=True>,\n",
       " <BatchNormalization name=block_16_depthwise_BN, built=True>,\n",
       " <ReLU name=block_16_depthwise_relu, built=True>,\n",
       " <Conv2D name=block_16_project, built=True>,\n",
       " <BatchNormalization name=block_16_project_BN, built=True>,\n",
       " <Conv2D name=Conv_1, built=True>,\n",
       " <BatchNormalization name=Conv_1_bn, built=True>,\n",
       " <ReLU name=out_relu, built=True>]"
      ]
     },
     "execution_count": 63,
     "metadata": {},
     "output_type": "execute_result"
    }
   ],
   "source": [
    "base_model.layers"
   ]
  },
  {
   "cell_type": "markdown",
   "id": "c4ff65c0-13ac-4919-9c11-f7c5ae6dac84",
   "metadata": {},
   "source": [
    "Unfreeze some layers of the pretrained model to allow fine-tuning. Start with unfreezing the last few layers:"
   ]
  },
  {
   "cell_type": "code",
   "execution_count": 64,
   "id": "806b80f6-bc61-41e6-85c3-ed72638dec26",
   "metadata": {},
   "outputs": [],
   "source": [
    "base_model.trainable=True\n",
    "for layers in base_model.layers[:-50] :\n",
    "    layers.trainable=False"
   ]
  },
  {
   "cell_type": "code",
   "execution_count": 65,
   "id": "855f4622-62d4-4b26-bef0-11570dbd4786",
   "metadata": {},
   "outputs": [],
   "source": [
    "model_2 = Sequential([\n",
    "    base_model,\n",
    "    GlobalAveragePooling2D(),\n",
    "    Dense(256, activation='relu'),\n",
    "    Dense(128, activation='relu'),\n",
    "    Dense(64,activation='relu'),\n",
    "    Dense(32,activation='relu'),\n",
    "    Dropout(0.5),\n",
    "    Dense(10, activation='softmax')\n",
    "])\n",
    "\n",
    "model_2.compile(optimizer=tf.keras.optimizers.Adam(learning_rate=1e-5),loss='sparse_categorical_crossentropy',metrics=['accuracy'])"
   ]
  },
  {
   "cell_type": "code",
   "execution_count": 66,
   "id": "4ff815fe-c4ea-433c-97fd-4e3e5919f246",
   "metadata": {},
   "outputs": [],
   "source": [
    "train_generator = datagen.flow(x_train_split,y_train_split)"
   ]
  },
  {
   "cell_type": "code",
   "execution_count": 67,
   "id": "4ef09357-0c96-42c8-8c2b-e6083e75c0b6",
   "metadata": {},
   "outputs": [
    {
     "name": "stdout",
     "output_type": "stream",
     "text": [
      "Epoch 1/20\n"
     ]
    },
    {
     "name": "stderr",
     "output_type": "stream",
     "text": [
      "C:\\Users\\kk687\\anaconda3\\Lib\\site-packages\\keras\\src\\trainers\\data_adapters\\py_dataset_adapter.py:122: UserWarning: Your `PyDataset` class should call `super().__init__(**kwargs)` in its constructor. `**kwargs` can include `workers`, `use_multiprocessing`, `max_queue_size`. Do not pass these arguments to `fit()`, as they will be ignored.\n",
      "  self._warn_if_super_not_called()\n"
     ]
    },
    {
     "name": "stdout",
     "output_type": "stream",
     "text": [
      "\u001b[1m 126/1688\u001b[0m \u001b[32m━\u001b[0m\u001b[37m━━━━━━━━━━━━━━━━━━━\u001b[0m \u001b[1m18:51\u001b[0m 725ms/step - accuracy: 0.0955 - loss: 2.7281"
     ]
    },
    {
     "ename": "KeyboardInterrupt",
     "evalue": "",
     "output_type": "error",
     "traceback": [
      "\u001b[1;31m---------------------------------------------------------------------------\u001b[0m",
      "\u001b[1;31mKeyboardInterrupt\u001b[0m                         Traceback (most recent call last)",
      "Cell \u001b[1;32mIn[67], line 1\u001b[0m\n\u001b[1;32m----> 1\u001b[0m model_2\u001b[38;5;241m.\u001b[39mfit(train_generator,validation_data\u001b[38;5;241m=\u001b[39m(x_val_split,y_val_split),batch_size\u001b[38;5;241m=\u001b[39m\u001b[38;5;241m32\u001b[39m,epochs\u001b[38;5;241m=\u001b[39m\u001b[38;5;241m20\u001b[39m)\n",
      "File \u001b[1;32m~\\anaconda3\\Lib\\site-packages\\keras\\src\\utils\\traceback_utils.py:117\u001b[0m, in \u001b[0;36mfilter_traceback.<locals>.error_handler\u001b[1;34m(*args, **kwargs)\u001b[0m\n\u001b[0;32m    115\u001b[0m filtered_tb \u001b[38;5;241m=\u001b[39m \u001b[38;5;28;01mNone\u001b[39;00m\n\u001b[0;32m    116\u001b[0m \u001b[38;5;28;01mtry\u001b[39;00m:\n\u001b[1;32m--> 117\u001b[0m     \u001b[38;5;28;01mreturn\u001b[39;00m fn(\u001b[38;5;241m*\u001b[39margs, \u001b[38;5;241m*\u001b[39m\u001b[38;5;241m*\u001b[39mkwargs)\n\u001b[0;32m    118\u001b[0m \u001b[38;5;28;01mexcept\u001b[39;00m \u001b[38;5;167;01mException\u001b[39;00m \u001b[38;5;28;01mas\u001b[39;00m e:\n\u001b[0;32m    119\u001b[0m     filtered_tb \u001b[38;5;241m=\u001b[39m _process_traceback_frames(e\u001b[38;5;241m.\u001b[39m__traceback__)\n",
      "File \u001b[1;32m~\\anaconda3\\Lib\\site-packages\\keras\\src\\backend\\tensorflow\\trainer.py:320\u001b[0m, in \u001b[0;36mTensorFlowTrainer.fit\u001b[1;34m(self, x, y, batch_size, epochs, verbose, callbacks, validation_split, validation_data, shuffle, class_weight, sample_weight, initial_epoch, steps_per_epoch, validation_steps, validation_batch_size, validation_freq)\u001b[0m\n\u001b[0;32m    318\u001b[0m \u001b[38;5;28;01mfor\u001b[39;00m step, iterator \u001b[38;5;129;01min\u001b[39;00m epoch_iterator\u001b[38;5;241m.\u001b[39menumerate_epoch():\n\u001b[0;32m    319\u001b[0m     callbacks\u001b[38;5;241m.\u001b[39mon_train_batch_begin(step)\n\u001b[1;32m--> 320\u001b[0m     logs \u001b[38;5;241m=\u001b[39m \u001b[38;5;28mself\u001b[39m\u001b[38;5;241m.\u001b[39mtrain_function(iterator)\n\u001b[0;32m    321\u001b[0m     logs \u001b[38;5;241m=\u001b[39m \u001b[38;5;28mself\u001b[39m\u001b[38;5;241m.\u001b[39m_pythonify_logs(logs)\n\u001b[0;32m    322\u001b[0m     callbacks\u001b[38;5;241m.\u001b[39mon_train_batch_end(step, logs)\n",
      "File \u001b[1;32m~\\anaconda3\\Lib\\site-packages\\tensorflow\\python\\util\\traceback_utils.py:150\u001b[0m, in \u001b[0;36mfilter_traceback.<locals>.error_handler\u001b[1;34m(*args, **kwargs)\u001b[0m\n\u001b[0;32m    148\u001b[0m filtered_tb \u001b[38;5;241m=\u001b[39m \u001b[38;5;28;01mNone\u001b[39;00m\n\u001b[0;32m    149\u001b[0m \u001b[38;5;28;01mtry\u001b[39;00m:\n\u001b[1;32m--> 150\u001b[0m   \u001b[38;5;28;01mreturn\u001b[39;00m fn(\u001b[38;5;241m*\u001b[39margs, \u001b[38;5;241m*\u001b[39m\u001b[38;5;241m*\u001b[39mkwargs)\n\u001b[0;32m    151\u001b[0m \u001b[38;5;28;01mexcept\u001b[39;00m \u001b[38;5;167;01mException\u001b[39;00m \u001b[38;5;28;01mas\u001b[39;00m e:\n\u001b[0;32m    152\u001b[0m   filtered_tb \u001b[38;5;241m=\u001b[39m _process_traceback_frames(e\u001b[38;5;241m.\u001b[39m__traceback__)\n",
      "File \u001b[1;32m~\\anaconda3\\Lib\\site-packages\\tensorflow\\python\\eager\\polymorphic_function\\polymorphic_function.py:833\u001b[0m, in \u001b[0;36mFunction.__call__\u001b[1;34m(self, *args, **kwds)\u001b[0m\n\u001b[0;32m    830\u001b[0m compiler \u001b[38;5;241m=\u001b[39m \u001b[38;5;124m\"\u001b[39m\u001b[38;5;124mxla\u001b[39m\u001b[38;5;124m\"\u001b[39m \u001b[38;5;28;01mif\u001b[39;00m \u001b[38;5;28mself\u001b[39m\u001b[38;5;241m.\u001b[39m_jit_compile \u001b[38;5;28;01melse\u001b[39;00m \u001b[38;5;124m\"\u001b[39m\u001b[38;5;124mnonXla\u001b[39m\u001b[38;5;124m\"\u001b[39m\n\u001b[0;32m    832\u001b[0m \u001b[38;5;28;01mwith\u001b[39;00m OptionalXlaContext(\u001b[38;5;28mself\u001b[39m\u001b[38;5;241m.\u001b[39m_jit_compile):\n\u001b[1;32m--> 833\u001b[0m   result \u001b[38;5;241m=\u001b[39m \u001b[38;5;28mself\u001b[39m\u001b[38;5;241m.\u001b[39m_call(\u001b[38;5;241m*\u001b[39margs, \u001b[38;5;241m*\u001b[39m\u001b[38;5;241m*\u001b[39mkwds)\n\u001b[0;32m    835\u001b[0m new_tracing_count \u001b[38;5;241m=\u001b[39m \u001b[38;5;28mself\u001b[39m\u001b[38;5;241m.\u001b[39mexperimental_get_tracing_count()\n\u001b[0;32m    836\u001b[0m without_tracing \u001b[38;5;241m=\u001b[39m (tracing_count \u001b[38;5;241m==\u001b[39m new_tracing_count)\n",
      "File \u001b[1;32m~\\anaconda3\\Lib\\site-packages\\tensorflow\\python\\eager\\polymorphic_function\\polymorphic_function.py:878\u001b[0m, in \u001b[0;36mFunction._call\u001b[1;34m(self, *args, **kwds)\u001b[0m\n\u001b[0;32m    875\u001b[0m \u001b[38;5;28mself\u001b[39m\u001b[38;5;241m.\u001b[39m_lock\u001b[38;5;241m.\u001b[39mrelease()\n\u001b[0;32m    876\u001b[0m \u001b[38;5;66;03m# In this case we have not created variables on the first call. So we can\u001b[39;00m\n\u001b[0;32m    877\u001b[0m \u001b[38;5;66;03m# run the first trace but we should fail if variables are created.\u001b[39;00m\n\u001b[1;32m--> 878\u001b[0m results \u001b[38;5;241m=\u001b[39m tracing_compilation\u001b[38;5;241m.\u001b[39mcall_function(\n\u001b[0;32m    879\u001b[0m     args, kwds, \u001b[38;5;28mself\u001b[39m\u001b[38;5;241m.\u001b[39m_variable_creation_config\n\u001b[0;32m    880\u001b[0m )\n\u001b[0;32m    881\u001b[0m \u001b[38;5;28;01mif\u001b[39;00m \u001b[38;5;28mself\u001b[39m\u001b[38;5;241m.\u001b[39m_created_variables:\n\u001b[0;32m    882\u001b[0m   \u001b[38;5;28;01mraise\u001b[39;00m \u001b[38;5;167;01mValueError\u001b[39;00m(\u001b[38;5;124m\"\u001b[39m\u001b[38;5;124mCreating variables on a non-first call to a function\u001b[39m\u001b[38;5;124m\"\u001b[39m\n\u001b[0;32m    883\u001b[0m                    \u001b[38;5;124m\"\u001b[39m\u001b[38;5;124m decorated with tf.function.\u001b[39m\u001b[38;5;124m\"\u001b[39m)\n",
      "File \u001b[1;32m~\\anaconda3\\Lib\\site-packages\\tensorflow\\python\\eager\\polymorphic_function\\tracing_compilation.py:139\u001b[0m, in \u001b[0;36mcall_function\u001b[1;34m(args, kwargs, tracing_options)\u001b[0m\n\u001b[0;32m    137\u001b[0m bound_args \u001b[38;5;241m=\u001b[39m function\u001b[38;5;241m.\u001b[39mfunction_type\u001b[38;5;241m.\u001b[39mbind(\u001b[38;5;241m*\u001b[39margs, \u001b[38;5;241m*\u001b[39m\u001b[38;5;241m*\u001b[39mkwargs)\n\u001b[0;32m    138\u001b[0m flat_inputs \u001b[38;5;241m=\u001b[39m function\u001b[38;5;241m.\u001b[39mfunction_type\u001b[38;5;241m.\u001b[39munpack_inputs(bound_args)\n\u001b[1;32m--> 139\u001b[0m \u001b[38;5;28;01mreturn\u001b[39;00m function\u001b[38;5;241m.\u001b[39m_call_flat(  \u001b[38;5;66;03m# pylint: disable=protected-access\u001b[39;00m\n\u001b[0;32m    140\u001b[0m     flat_inputs, captured_inputs\u001b[38;5;241m=\u001b[39mfunction\u001b[38;5;241m.\u001b[39mcaptured_inputs\n\u001b[0;32m    141\u001b[0m )\n",
      "File \u001b[1;32m~\\anaconda3\\Lib\\site-packages\\tensorflow\\python\\eager\\polymorphic_function\\concrete_function.py:1322\u001b[0m, in \u001b[0;36mConcreteFunction._call_flat\u001b[1;34m(self, tensor_inputs, captured_inputs)\u001b[0m\n\u001b[0;32m   1318\u001b[0m possible_gradient_type \u001b[38;5;241m=\u001b[39m gradients_util\u001b[38;5;241m.\u001b[39mPossibleTapeGradientTypes(args)\n\u001b[0;32m   1319\u001b[0m \u001b[38;5;28;01mif\u001b[39;00m (possible_gradient_type \u001b[38;5;241m==\u001b[39m gradients_util\u001b[38;5;241m.\u001b[39mPOSSIBLE_GRADIENT_TYPES_NONE\n\u001b[0;32m   1320\u001b[0m     \u001b[38;5;129;01mand\u001b[39;00m executing_eagerly):\n\u001b[0;32m   1321\u001b[0m   \u001b[38;5;66;03m# No tape is watching; skip to running the function.\u001b[39;00m\n\u001b[1;32m-> 1322\u001b[0m   \u001b[38;5;28;01mreturn\u001b[39;00m \u001b[38;5;28mself\u001b[39m\u001b[38;5;241m.\u001b[39m_inference_function\u001b[38;5;241m.\u001b[39mcall_preflattened(args)\n\u001b[0;32m   1323\u001b[0m forward_backward \u001b[38;5;241m=\u001b[39m \u001b[38;5;28mself\u001b[39m\u001b[38;5;241m.\u001b[39m_select_forward_and_backward_functions(\n\u001b[0;32m   1324\u001b[0m     args,\n\u001b[0;32m   1325\u001b[0m     possible_gradient_type,\n\u001b[0;32m   1326\u001b[0m     executing_eagerly)\n\u001b[0;32m   1327\u001b[0m forward_function, args_with_tangents \u001b[38;5;241m=\u001b[39m forward_backward\u001b[38;5;241m.\u001b[39mforward()\n",
      "File \u001b[1;32m~\\anaconda3\\Lib\\site-packages\\tensorflow\\python\\eager\\polymorphic_function\\atomic_function.py:216\u001b[0m, in \u001b[0;36mAtomicFunction.call_preflattened\u001b[1;34m(self, args)\u001b[0m\n\u001b[0;32m    214\u001b[0m \u001b[38;5;28;01mdef\u001b[39;00m \u001b[38;5;21mcall_preflattened\u001b[39m(\u001b[38;5;28mself\u001b[39m, args: Sequence[core\u001b[38;5;241m.\u001b[39mTensor]) \u001b[38;5;241m-\u001b[39m\u001b[38;5;241m>\u001b[39m Any:\n\u001b[0;32m    215\u001b[0m \u001b[38;5;250m  \u001b[39m\u001b[38;5;124;03m\"\"\"Calls with flattened tensor inputs and returns the structured output.\"\"\"\u001b[39;00m\n\u001b[1;32m--> 216\u001b[0m   flat_outputs \u001b[38;5;241m=\u001b[39m \u001b[38;5;28mself\u001b[39m\u001b[38;5;241m.\u001b[39mcall_flat(\u001b[38;5;241m*\u001b[39margs)\n\u001b[0;32m    217\u001b[0m   \u001b[38;5;28;01mreturn\u001b[39;00m \u001b[38;5;28mself\u001b[39m\u001b[38;5;241m.\u001b[39mfunction_type\u001b[38;5;241m.\u001b[39mpack_output(flat_outputs)\n",
      "File \u001b[1;32m~\\anaconda3\\Lib\\site-packages\\tensorflow\\python\\eager\\polymorphic_function\\atomic_function.py:251\u001b[0m, in \u001b[0;36mAtomicFunction.call_flat\u001b[1;34m(self, *args)\u001b[0m\n\u001b[0;32m    249\u001b[0m \u001b[38;5;28;01mwith\u001b[39;00m record\u001b[38;5;241m.\u001b[39mstop_recording():\n\u001b[0;32m    250\u001b[0m   \u001b[38;5;28;01mif\u001b[39;00m \u001b[38;5;28mself\u001b[39m\u001b[38;5;241m.\u001b[39m_bound_context\u001b[38;5;241m.\u001b[39mexecuting_eagerly():\n\u001b[1;32m--> 251\u001b[0m     outputs \u001b[38;5;241m=\u001b[39m \u001b[38;5;28mself\u001b[39m\u001b[38;5;241m.\u001b[39m_bound_context\u001b[38;5;241m.\u001b[39mcall_function(\n\u001b[0;32m    252\u001b[0m         \u001b[38;5;28mself\u001b[39m\u001b[38;5;241m.\u001b[39mname,\n\u001b[0;32m    253\u001b[0m         \u001b[38;5;28mlist\u001b[39m(args),\n\u001b[0;32m    254\u001b[0m         \u001b[38;5;28mlen\u001b[39m(\u001b[38;5;28mself\u001b[39m\u001b[38;5;241m.\u001b[39mfunction_type\u001b[38;5;241m.\u001b[39mflat_outputs),\n\u001b[0;32m    255\u001b[0m     )\n\u001b[0;32m    256\u001b[0m   \u001b[38;5;28;01melse\u001b[39;00m:\n\u001b[0;32m    257\u001b[0m     outputs \u001b[38;5;241m=\u001b[39m make_call_op_in_graph(\n\u001b[0;32m    258\u001b[0m         \u001b[38;5;28mself\u001b[39m,\n\u001b[0;32m    259\u001b[0m         \u001b[38;5;28mlist\u001b[39m(args),\n\u001b[0;32m    260\u001b[0m         \u001b[38;5;28mself\u001b[39m\u001b[38;5;241m.\u001b[39m_bound_context\u001b[38;5;241m.\u001b[39mfunction_call_options\u001b[38;5;241m.\u001b[39mas_attrs(),\n\u001b[0;32m    261\u001b[0m     )\n",
      "File \u001b[1;32m~\\anaconda3\\Lib\\site-packages\\tensorflow\\python\\eager\\context.py:1552\u001b[0m, in \u001b[0;36mContext.call_function\u001b[1;34m(self, name, tensor_inputs, num_outputs)\u001b[0m\n\u001b[0;32m   1550\u001b[0m cancellation_context \u001b[38;5;241m=\u001b[39m cancellation\u001b[38;5;241m.\u001b[39mcontext()\n\u001b[0;32m   1551\u001b[0m \u001b[38;5;28;01mif\u001b[39;00m cancellation_context \u001b[38;5;129;01mis\u001b[39;00m \u001b[38;5;28;01mNone\u001b[39;00m:\n\u001b[1;32m-> 1552\u001b[0m   outputs \u001b[38;5;241m=\u001b[39m execute\u001b[38;5;241m.\u001b[39mexecute(\n\u001b[0;32m   1553\u001b[0m       name\u001b[38;5;241m.\u001b[39mdecode(\u001b[38;5;124m\"\u001b[39m\u001b[38;5;124mutf-8\u001b[39m\u001b[38;5;124m\"\u001b[39m),\n\u001b[0;32m   1554\u001b[0m       num_outputs\u001b[38;5;241m=\u001b[39mnum_outputs,\n\u001b[0;32m   1555\u001b[0m       inputs\u001b[38;5;241m=\u001b[39mtensor_inputs,\n\u001b[0;32m   1556\u001b[0m       attrs\u001b[38;5;241m=\u001b[39mattrs,\n\u001b[0;32m   1557\u001b[0m       ctx\u001b[38;5;241m=\u001b[39m\u001b[38;5;28mself\u001b[39m,\n\u001b[0;32m   1558\u001b[0m   )\n\u001b[0;32m   1559\u001b[0m \u001b[38;5;28;01melse\u001b[39;00m:\n\u001b[0;32m   1560\u001b[0m   outputs \u001b[38;5;241m=\u001b[39m execute\u001b[38;5;241m.\u001b[39mexecute_with_cancellation(\n\u001b[0;32m   1561\u001b[0m       name\u001b[38;5;241m.\u001b[39mdecode(\u001b[38;5;124m\"\u001b[39m\u001b[38;5;124mutf-8\u001b[39m\u001b[38;5;124m\"\u001b[39m),\n\u001b[0;32m   1562\u001b[0m       num_outputs\u001b[38;5;241m=\u001b[39mnum_outputs,\n\u001b[1;32m   (...)\u001b[0m\n\u001b[0;32m   1566\u001b[0m       cancellation_manager\u001b[38;5;241m=\u001b[39mcancellation_context,\n\u001b[0;32m   1567\u001b[0m   )\n",
      "File \u001b[1;32m~\\anaconda3\\Lib\\site-packages\\tensorflow\\python\\eager\\execute.py:53\u001b[0m, in \u001b[0;36mquick_execute\u001b[1;34m(op_name, num_outputs, inputs, attrs, ctx, name)\u001b[0m\n\u001b[0;32m     51\u001b[0m \u001b[38;5;28;01mtry\u001b[39;00m:\n\u001b[0;32m     52\u001b[0m   ctx\u001b[38;5;241m.\u001b[39mensure_initialized()\n\u001b[1;32m---> 53\u001b[0m   tensors \u001b[38;5;241m=\u001b[39m pywrap_tfe\u001b[38;5;241m.\u001b[39mTFE_Py_Execute(ctx\u001b[38;5;241m.\u001b[39m_handle, device_name, op_name,\n\u001b[0;32m     54\u001b[0m                                       inputs, attrs, num_outputs)\n\u001b[0;32m     55\u001b[0m \u001b[38;5;28;01mexcept\u001b[39;00m core\u001b[38;5;241m.\u001b[39m_NotOkStatusException \u001b[38;5;28;01mas\u001b[39;00m e:\n\u001b[0;32m     56\u001b[0m   \u001b[38;5;28;01mif\u001b[39;00m name \u001b[38;5;129;01mis\u001b[39;00m \u001b[38;5;129;01mnot\u001b[39;00m \u001b[38;5;28;01mNone\u001b[39;00m:\n",
      "\u001b[1;31mKeyboardInterrupt\u001b[0m: "
     ]
    }
   ],
   "source": [
    "model_2.fit(train_generator,validation_data=(x_val_split,y_val_split),batch_size=32,epochs=20)"
   ]
  },
  {
   "cell_type": "markdown",
   "id": "dd57ba40-a467-4db8-8829-4bdcc63e3e33",
   "metadata": {},
   "source": [
    "lets switch for other tranfer models .....EfficientNetB0"
   ]
  },
  {
   "cell_type": "code",
   "execution_count": null,
   "id": "e200b3ea-465e-498b-8b57-9c8e82050b8f",
   "metadata": {},
   "outputs": [
    {
     "name": "stdout",
     "output_type": "stream",
     "text": [
      "Downloading data from https://storage.googleapis.com/keras-applications/efficientnetb0_notop.h5\n",
      "\u001b[1m 1007616/16705208\u001b[0m \u001b[32m━\u001b[0m\u001b[37m━━━━━━━━━━━━━━━━━━━\u001b[0m \u001b[1m1:01:57\u001b[0m 237us/step"
     ]
    }
   ],
   "source": [
    "from tensorflow.keras.applications import EfficientNetB0\n",
    "\n",
    "base_mode_1 = EfficientNetB0(include_top=False,input_shape=(32,32,3))\n",
    "base_model_1.trainable = False"
   ]
  },
  {
   "cell_type": "code",
   "execution_count": null,
   "id": "4f1d1829-fc6a-488d-8a58-4610c9275256",
   "metadata": {},
   "outputs": [],
   "source": []
  }
 ],
 "metadata": {
  "kernelspec": {
   "display_name": "Python 3 (ipykernel)",
   "language": "python",
   "name": "python3"
  },
  "language_info": {
   "codemirror_mode": {
    "name": "ipython",
    "version": 3
   },
   "file_extension": ".py",
   "mimetype": "text/x-python",
   "name": "python",
   "nbconvert_exporter": "python",
   "pygments_lexer": "ipython3",
   "version": "3.11.7"
  }
 },
 "nbformat": 4,
 "nbformat_minor": 5
}
